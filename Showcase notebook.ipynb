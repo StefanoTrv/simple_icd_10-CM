{
 "cells": [
  {
   "cell_type": "markdown",
   "metadata": {},
   "source": [
    "# Showcase notebook\n",
    "In this Jupyter Notebook we will explore the functionalities of the simple_icd_10_CM library. This is intended as an interactive introduction to this module, refer to the README.md file for the official documentation. In particular, you should at least **read the paragraphs \"Blocks containing only one category\" and \"About the special seventh character\"**, which give some important explanations that won't be repeated here. In particular, the first of those two paragraphs explains the meaning of the `prioritize_blocks` argument, which will not be explained here.  \n",
    "The only thing that I will repeat here is the format of the codes, to be precise of the codes for the subcategories. The functions in this library will accept as input subcategory codes both with or without the dot (for example, \"J21.0\" and \"J210\" are both acceptable ways to write the same code). The codes that are returned by the functions are always with the dot. You can use the functions `cm.remove_dot` and `cm.add_dot` to easily switch from one notation to the other.\n",
    "\n",
    "For the setup, you can either use directly the \"simple_icd_10_CM.py\" file in conjunction with the \"data\" folder, or install the package with pip or conda, using one the following commands:"
   ]
  },
  {
   "cell_type": "code",
   "execution_count": 1,
   "metadata": {},
   "outputs": [],
   "source": [
    "#!pip install simple-icd-10-cm"
   ]
  },
  {
   "cell_type": "code",
   "execution_count": 2,
   "metadata": {},
   "outputs": [],
   "source": [
    "#!conda install -c stefanotrv simple_icd_10_cm"
   ]
  },
  {
   "cell_type": "markdown",
   "metadata": {},
   "source": [
    "Then, let's import the module using a shorter alias."
   ]
  },
  {
   "cell_type": "code",
   "execution_count": 3,
   "metadata": {},
   "outputs": [],
   "source": [
    "import simple_icd_10_cm as cm"
   ]
  },
  {
   "cell_type": "markdown",
   "metadata": {},
   "source": [
    "We can use `cm.is_valid_item` to check whether a string is a valid chapter, block, category or subcategory in ICD-10."
   ]
  },
  {
   "cell_type": "code",
   "execution_count": 4,
   "metadata": {},
   "outputs": [
    {
     "name": "stdout",
     "output_type": "stream",
     "text": [
      "dinosaur:\tFalse\n",
      "      12:\tTrue\n",
      " G10-G14:\tTrue\n",
      "     C00:\tTrue\n",
      "   H60.1:\tTrue\n",
      "M48.40XS:\tTrue\n"
     ]
    }
   ],
   "source": [
    "print(\"dinosaur:\\t\"+str(cm.is_valid_item(\"dinosaur\")))\n",
    "print(\"      12:\\t\"+str(cm.is_valid_item(\"12\")))\n",
    "print(\" G10-G14:\\t\"+str(cm.is_valid_item(\"G10-G14\")))\n",
    "print(\"     C00:\\t\"+str(cm.is_valid_item(\"C00\")))\n",
    "print(\"   H60.1:\\t\"+str(cm.is_valid_item(\"H60.1\")))\n",
    "print(\"M48.40XS:\\t\"+str(cm.is_valid_item(\"M48.40XS\")))"
   ]
  },
  {
   "cell_type": "markdown",
   "metadata": {},
   "source": [
    "`cm.is_category_or_subcategory` is the same but restricted to only categories and subcategories."
   ]
  },
  {
   "cell_type": "code",
   "execution_count": 5,
   "metadata": {},
   "outputs": [
    {
     "name": "stdout",
     "output_type": "stream",
     "text": [
      "dinosaur:\tFalse\n",
      "      12:\tFalse\n",
      " G10-G14:\tFalse\n",
      "     C00:\tTrue\n",
      "   H60.1:\tTrue\n",
      "M48.40XS:\tTrue\n"
     ]
    }
   ],
   "source": [
    "print(\"dinosaur:\\t\"+str(cm.is_category_or_subcategory(\"dinosaur\")))\n",
    "print(\"      12:\\t\"+str(cm.is_category_or_subcategory(\"12\")))\n",
    "print(\" G10-G14:\\t\"+str(cm.is_category_or_subcategory(\"G10-G14\")))\n",
    "print(\"     C00:\\t\"+str(cm.is_category_or_subcategory(\"C00\")))\n",
    "print(\"   H60.1:\\t\"+str(cm.is_category_or_subcategory(\"H60.1\")))\n",
    "print(\"M48.40XS:\\t\"+str(cm.is_category_or_subcategory(\"M48.40XS\")))"
   ]
  },
  {
   "cell_type": "markdown",
   "metadata": {},
   "source": [
    "`cm.is_chapter_or_block` is again the same but restricted to only chapters and blocks."
   ]
  },
  {
   "cell_type": "code",
   "execution_count": 6,
   "metadata": {},
   "outputs": [
    {
     "name": "stdout",
     "output_type": "stream",
     "text": [
      "dinosaur:\tFalse\n",
      "      12:\tTrue\n",
      " G10-G14:\tTrue\n",
      "     C00:\tFalse\n",
      "   H60.1:\tFalse\n",
      "M48.40XS:\tFalse\n"
     ]
    }
   ],
   "source": [
    "print(\"dinosaur:\\t\"+str(cm.is_chapter_or_block(\"dinosaur\")))\n",
    "print(\"      12:\\t\"+str(cm.is_chapter_or_block(\"12\")))\n",
    "print(\" G10-G14:\\t\"+str(cm.is_chapter_or_block(\"G10-G14\")))\n",
    "print(\"     C00:\\t\"+str(cm.is_chapter_or_block(\"C00\")))\n",
    "print(\"   H60.1:\\t\"+str(cm.is_chapter_or_block(\"H60.1\")))\n",
    "print(\"M48.40XS:\\t\"+str(cm.is_chapter_or_block(\"M48.40XS\")))"
   ]
  },
  {
   "cell_type": "markdown",
   "metadata": {},
   "source": [
    "We can use `is_chapter`, `is_block`, `is_category`, `is_subcategory` and `is_extended_subcategory` to check whether a string is, respectively, a valid chapter, block, category, subcategory or subcategory obtained by adding the 7th character to another code."
   ]
  },
  {
   "cell_type": "code",
   "execution_count": 7,
   "metadata": {},
   "outputs": [
    {
     "name": "stdout",
     "output_type": "stream",
     "text": [
      "dinosaur:\tFalse\n",
      "      12:\tTrue\n",
      " G10-G14:\tFalse\n",
      "     C00:\tFalse\n",
      "   H60.1:\tFalse\n",
      "M48.40XS:\tFalse\n"
     ]
    }
   ],
   "source": [
    "print(\"dinosaur:\\t\"+str(cm.is_chapter(\"dinosaur\")))\n",
    "print(\"      12:\\t\"+str(cm.is_chapter(\"12\")))\n",
    "print(\" G10-G14:\\t\"+str(cm.is_chapter(\"G10-G14\")))\n",
    "print(\"     C00:\\t\"+str(cm.is_chapter(\"C00\")))\n",
    "print(\"   H60.1:\\t\"+str(cm.is_chapter(\"H60.1\")))\n",
    "print(\"M48.40XS:\\t\"+str(cm.is_chapter(\"M48.40XS\")))"
   ]
  },
  {
   "cell_type": "code",
   "execution_count": 8,
   "metadata": {},
   "outputs": [
    {
     "name": "stdout",
     "output_type": "stream",
     "text": [
      "dinosaur:\tFalse\n",
      "      12:\tFalse\n",
      " G10-G14:\tTrue\n",
      "     C00:\tFalse\n",
      "   H60.1:\tFalse\n",
      "M48.40XS:\tFalse\n"
     ]
    }
   ],
   "source": [
    "print(\"dinosaur:\\t\"+str(cm.is_block(\"dinosaur\")))\n",
    "print(\"      12:\\t\"+str(cm.is_block(\"12\")))\n",
    "print(\" G10-G14:\\t\"+str(cm.is_block(\"G10-G14\")))\n",
    "print(\"     C00:\\t\"+str(cm.is_block(\"C00\")))\n",
    "print(\"   H60.1:\\t\"+str(cm.is_block(\"H60.1\")))\n",
    "print(\"M48.40XS:\\t\"+str(cm.is_block(\"M48.40XS\")))"
   ]
  },
  {
   "cell_type": "code",
   "execution_count": 9,
   "metadata": {},
   "outputs": [
    {
     "name": "stdout",
     "output_type": "stream",
     "text": [
      "dinosaur:\tFalse\n",
      "      12:\tFalse\n",
      " G10-G14:\tFalse\n",
      "     C00:\tTrue\n",
      "   H60.1:\tFalse\n",
      "M48.40XS:\tFalse\n"
     ]
    }
   ],
   "source": [
    "print(\"dinosaur:\\t\"+str(cm.is_category(\"dinosaur\")))\n",
    "print(\"      12:\\t\"+str(cm.is_category(\"12\")))\n",
    "print(\" G10-G14:\\t\"+str(cm.is_category(\"G10-G14\")))\n",
    "print(\"     C00:\\t\"+str(cm.is_category(\"C00\")))\n",
    "print(\"   H60.1:\\t\"+str(cm.is_category(\"H60.1\")))\n",
    "print(\"M48.40XS:\\t\"+str(cm.is_category(\"M48.40XS\")))"
   ]
  },
  {
   "cell_type": "code",
   "execution_count": 10,
   "metadata": {},
   "outputs": [
    {
     "name": "stdout",
     "output_type": "stream",
     "text": [
      "dinosaur:\tFalse\n",
      "      12:\tFalse\n",
      " G10-G14:\tFalse\n",
      "     C00:\tFalse\n",
      "   H60.1:\tTrue\n",
      "M48.40XS:\tTrue\n"
     ]
    }
   ],
   "source": [
    "print(\"dinosaur:\\t\"+str(cm.is_subcategory(\"dinosaur\")))\n",
    "print(\"      12:\\t\"+str(cm.is_subcategory(\"12\")))\n",
    "print(\" G10-G14:\\t\"+str(cm.is_subcategory(\"G10-G14\")))\n",
    "print(\"     C00:\\t\"+str(cm.is_subcategory(\"C00\")))\n",
    "print(\"   H60.1:\\t\"+str(cm.is_subcategory(\"H60.1\")))\n",
    "print(\"M48.40XS:\\t\"+str(cm.is_subcategory(\"M48.40XS\")))"
   ]
  },
  {
   "cell_type": "code",
   "execution_count": 11,
   "metadata": {},
   "outputs": [
    {
     "name": "stdout",
     "output_type": "stream",
     "text": [
      "dinosaur:\tFalse\n",
      "      12:\tFalse\n",
      " G10-G14:\tFalse\n",
      "     C00:\tFalse\n",
      "   H60.1:\tFalse\n",
      "M48.40XS:\tTrue\n"
     ]
    }
   ],
   "source": [
    "print(\"dinosaur:\\t\"+str(cm.is_extended_subcategory(\"dinosaur\")))\n",
    "print(\"      12:\\t\"+str(cm.is_extended_subcategory(\"12\")))\n",
    "print(\" G10-G14:\\t\"+str(cm.is_extended_subcategory(\"G10-G14\")))\n",
    "print(\"     C00:\\t\"+str(cm.is_extended_subcategory(\"C00\")))\n",
    "print(\"   H60.1:\\t\"+str(cm.is_extended_subcategory(\"H60.1\")))\n",
    "print(\"M48.40XS:\\t\"+str(cm.is_extended_subcategory(\"M48.40XS\")))"
   ]
  },
  {
   "cell_type": "markdown",
   "metadata": {},
   "source": [
    "When using the `cm.is_subcategory` function, we can set the optional argument `include_extended_subcategories` to False to exclude the subcategories obtained by adding the 7th character to another code."
   ]
  },
  {
   "cell_type": "code",
   "execution_count": 12,
   "metadata": {},
   "outputs": [
    {
     "name": "stdout",
     "output_type": "stream",
     "text": [
      "dinosaur:\tFalse\n",
      "      12:\tFalse\n",
      " G10-G14:\tFalse\n",
      "     C00:\tFalse\n",
      "   H60.1:\tTrue\n",
      "M48.40XS:\tFalse\n"
     ]
    }
   ],
   "source": [
    "print(\"dinosaur:\\t\"+str(cm.is_subcategory(\"dinosaur\", include_extended_subcategories=False)))\n",
    "print(\"      12:\\t\"+str(cm.is_subcategory(\"12\", include_extended_subcategories=False)))\n",
    "print(\" G10-G14:\\t\"+str(cm.is_subcategory(\"G10-G14\", include_extended_subcategories=False)))\n",
    "print(\"     C00:\\t\"+str(cm.is_subcategory(\"C00\", include_extended_subcategories=False)))\n",
    "print(\"   H60.1:\\t\"+str(cm.is_subcategory(\"H60.1\", include_extended_subcategories=False)))\n",
    "print(\"M48.40XS:\\t\"+str(cm.is_subcategory(\"M48.40XS\", include_extended_subcategories=False)))"
   ]
  },
  {
   "cell_type": "markdown",
   "metadata": {},
   "source": [
    "All the following functions will raise a `ValueError` if they receive as input a string that is not a valid ICD-10-CM item (chapter, block, category or subcategory).\n",
    "\n",
    "With `cm.get_description` we can get the descriptions of the codes."
   ]
  },
  {
   "cell_type": "code",
   "execution_count": 13,
   "metadata": {},
   "outputs": [
    {
     "name": "stdout",
     "output_type": "stream",
     "text": [
      "      12:\tDiseases of the skin and subcutaneous tissue (L00-L99)\n",
      " G10-G14:\tSystemic atrophies primarily affecting the central nervous system (G10-G14)\n",
      "     C00:\tMalignant neoplasm of lip\n",
      "   H60.1:\tCellulitis of external ear\n",
      "M48.40XS:\tFatigue fracture of vertebra, site unspecified, sequela of fracture\n"
     ]
    }
   ],
   "source": [
    "print(\"      12:\\t\"+cm.get_description(\"12\"))\n",
    "print(\" G10-G14:\\t\"+cm.get_description(\"G10-G14\"))\n",
    "print(\"     C00:\\t\"+cm.get_description(\"C00\"))\n",
    "print(\"   H60.1:\\t\"+cm.get_description(\"H60.1\"))\n",
    "print(\"M48.40XS:\\t\"+cm.get_description(\"M48.40XS\"))"
   ]
  },
  {
   "cell_type": "markdown",
   "metadata": {},
   "source": [
    "To read the other fields of the codes, we can use the functions `cm.get_excludes1`, `cm.get_excludes2`, `cm.get_includes`, `cm.get_inclusion_term`, `cm.get_seven_chr_note`, `cm.get_seven_chr_def`, `cm.get_use_additional_code` and `cm.get_code_first`."
   ]
  },
  {
   "cell_type": "code",
   "execution_count": 14,
   "metadata": {},
   "outputs": [
    {
     "name": "stdout",
     "output_type": "stream",
     "text": [
      "     A06:\t['other protozoal intestinal diseases (A07.-)']\n",
      "     A81:\t[]\n",
      "     E09:\t['diabetes mellitus due to underlying condition (E08.-)', 'gestational diabetes (O24.4-)', 'neonatal diabetes mellitus (P70.2)', 'postpancreatectomy diabetes mellitus (E13.-)', 'postprocedural diabetes mellitus (E13.-)', 'secondary diabetes mellitus NEC (E13.-)', 'type 1 diabetes mellitus (E10.-)', 'type 2 diabetes mellitus (E11.-)']\n",
      "   A17.1:\t[]\n",
      "   H60.1:\t[]\n",
      "   M84.3:\t['pathological fracture NOS (M84.4.-)', 'pathological fracture due to osteoporosis (M80.-)', 'traumatic fracture (S12.-, S22.-, S32.-, S42.-, S52.-, S62.-, S72.-, S82.-, S92.-)']\n",
      "M48.40XS:\t[]\n"
     ]
    }
   ],
   "source": [
    "print(\"     A06:\\t\"+str(cm.get_excludes1(\"A06\")))\n",
    "print(\"     A81:\\t\"+str(cm.get_excludes1(\"A81\")))\n",
    "print(\"     E09:\\t\"+str(cm.get_excludes1(\"E09\")))\n",
    "print(\"   A17.1:\\t\"+str(cm.get_excludes1(\"A17.1\")))\n",
    "print(\"   H60.1:\\t\"+str(cm.get_excludes1(\"H60.1\")))\n",
    "print(\"   M84.3:\\t\"+str(cm.get_excludes1(\"M84.3\")))\n",
    "print(\"M48.40XS:\\t\"+str(cm.get_excludes1(\"M48.40XS\")))"
   ]
  },
  {
   "cell_type": "code",
   "execution_count": 15,
   "metadata": {},
   "outputs": [
    {
     "name": "stdout",
     "output_type": "stream",
     "text": [
      "     A06:\t['acanthamebiasis (B60.1-)', 'Naegleriasis (B60.2)']\n",
      "     A81:\t[]\n",
      "     E09:\t[]\n",
      "   A17.1:\t['tuberculoma of brain and spinal cord (A17.81)']\n",
      "   H60.1:\t[]\n",
      "   M84.3:\t['personal history of (healed) stress (fatigue) fracture (Z87.312)', 'stress fracture of vertebra (M48.4-)']\n",
      "M48.40XS:\t[]\n"
     ]
    }
   ],
   "source": [
    "print(\"     A06:\\t\"+str(cm.get_excludes2(\"A06\")))\n",
    "print(\"     A81:\\t\"+str(cm.get_excludes2(\"A81\")))\n",
    "print(\"     E09:\\t\"+str(cm.get_excludes2(\"E09\")))\n",
    "print(\"   A17.1:\\t\"+str(cm.get_excludes2(\"A17.1\")))\n",
    "print(\"   H60.1:\\t\"+str(cm.get_excludes2(\"H60.1\")))\n",
    "print(\"   M84.3:\\t\"+str(cm.get_excludes2(\"M84.3\")))\n",
    "print(\"M48.40XS:\\t\"+str(cm.get_excludes2(\"M48.40XS\")))"
   ]
  },
  {
   "cell_type": "code",
   "execution_count": 16,
   "metadata": {},
   "outputs": [
    {
     "name": "stdout",
     "output_type": "stream",
     "text": [
      "     A06:\t['infection due to Entamoeba histolytica']\n",
      "     A81:\t['diseases of the central nervous system caused by prions']\n",
      "     E09:\t[]\n",
      "   A17.1:\t[]\n",
      "   H60.1:\t[]\n",
      "   M84.3:\t[]\n",
      "M48.40XS:\t[]\n"
     ]
    }
   ],
   "source": [
    "print(\"     A06:\\t\"+str(cm.get_includes(\"A06\")))\n",
    "print(\"     A81:\\t\"+str(cm.get_includes(\"A81\")))\n",
    "print(\"     E09:\\t\"+str(cm.get_includes(\"E09\")))\n",
    "print(\"   A17.1:\\t\"+str(cm.get_includes(\"A17.1\")))\n",
    "print(\"   H60.1:\\t\"+str(cm.get_includes(\"H60.1\")))\n",
    "print(\"   M84.3:\\t\"+str(cm.get_includes(\"M84.3\")))\n",
    "print(\"M48.40XS:\\t\"+str(cm.get_includes(\"M48.40XS\")))"
   ]
  },
  {
   "cell_type": "code",
   "execution_count": 17,
   "metadata": {},
   "outputs": [
    {
     "name": "stdout",
     "output_type": "stream",
     "text": [
      "     A06:\t[]\n",
      "     A81:\t[]\n",
      "     E09:\t[]\n",
      "   A17.1:\t['Tuberculoma of meninges (cerebral) (spinal)']\n",
      "   H60.1:\t['Cellulitis of auricle', 'Cellulitis of external auditory canal']\n",
      "   M84.3:\t['Fatigue fracture', 'March fracture', 'Stress fracture NOS', 'Stress reaction']\n",
      "M48.40XS:\t[]\n"
     ]
    }
   ],
   "source": [
    "print(\"     A06:\\t\"+str(cm.get_inclusion_term(\"A06\")))\n",
    "print(\"     A81:\\t\"+str(cm.get_inclusion_term(\"A81\")))\n",
    "print(\"     E09:\\t\"+str(cm.get_inclusion_term(\"E09\")))\n",
    "print(\"   A17.1:\\t\"+str(cm.get_inclusion_term(\"A17.1\")))\n",
    "print(\"   H60.1:\\t\"+str(cm.get_inclusion_term(\"H60.1\")))\n",
    "print(\"   M84.3:\\t\"+str(cm.get_inclusion_term(\"M84.3\")))\n",
    "print(\"M48.40XS:\\t\"+str(cm.get_inclusion_term(\"M48.40XS\")))"
   ]
  },
  {
   "cell_type": "code",
   "execution_count": 18,
   "metadata": {},
   "outputs": [
    {
     "name": "stdout",
     "output_type": "stream",
     "text": [
      "     A06:\t\n",
      "     A81:\t\n",
      "     E09:\t\n",
      "   A17.1:\t\n",
      "   H60.1:\t\n",
      "   M84.3:\tThe appropriate 7th character is to be added to each code from subcategory M84.3:\n",
      "M48.40XS:\t\n"
     ]
    }
   ],
   "source": [
    "print(\"     A06:\\t\"+cm.get_seven_chr_note(\"A06\"))\n",
    "print(\"     A81:\\t\"+cm.get_seven_chr_note(\"A81\"))\n",
    "print(\"     E09:\\t\"+cm.get_seven_chr_note(\"E09\"))\n",
    "print(\"   A17.1:\\t\"+cm.get_seven_chr_note(\"A17.1\"))\n",
    "print(\"   H60.1:\\t\"+cm.get_seven_chr_note(\"H60.1\"))\n",
    "print(\"   M84.3:\\t\"+cm.get_seven_chr_note(\"M84.3\"))\n",
    "print(\"M48.40XS:\\t\"+cm.get_seven_chr_note(\"M48.40XS\"))"
   ]
  },
  {
   "cell_type": "code",
   "execution_count": 19,
   "metadata": {},
   "outputs": [
    {
     "name": "stdout",
     "output_type": "stream",
     "text": [
      "     A06:\t{}\n",
      "     A81:\t{}\n",
      "     E09:\t{}\n",
      "   A17.1:\t{}\n",
      "   H60.1:\t{}\n",
      "   M84.3:\t{'A': 'initial encounter for fracture', 'D': 'subsequent encounter for fracture with routine healing', 'G': 'subsequent encounter for fracture with delayed healing', 'K': 'subsequent encounter for fracture with nonunion', 'P': 'subsequent encounter for fracture with malunion', 'S': 'sequela'}\n",
      "M48.40XS:\t{}\n"
     ]
    }
   ],
   "source": [
    "print(\"     A06:\\t\"+str(cm.get_seven_chr_def(\"A06\")))\n",
    "print(\"     A81:\\t\"+str(cm.get_seven_chr_def(\"A81\")))\n",
    "print(\"     E09:\\t\"+str(cm.get_seven_chr_def(\"E09\")))\n",
    "print(\"   A17.1:\\t\"+str(cm.get_seven_chr_def(\"A17.1\")))\n",
    "print(\"   H60.1:\\t\"+str(cm.get_seven_chr_def(\"H60.1\")))\n",
    "print(\"   M84.3:\\t\"+str(cm.get_seven_chr_def(\"M84.3\")))\n",
    "print(\"M48.40XS:\\t\"+str(cm.get_seven_chr_def(\"M48.40XS\")))"
   ]
  },
  {
   "cell_type": "code",
   "execution_count": 20,
   "metadata": {},
   "outputs": [
    {
     "name": "stdout",
     "output_type": "stream",
     "text": [
      "     A06:\t\n",
      "     A81:\tcode to identify:\n",
      "dementia with behavioral disturbance (F02.81)\n",
      "dementia without behavioral disturbance (F02.80)\n",
      "     E09:\tcode for adverse effect, if applicable, to identify drug (T36-T50 with fifth or sixth character 5)\n",
      "code to identify control using:\n",
      "insulin (Z79.4)\n",
      "oral antidiabetic drugs (Z79.84)\n",
      "oral hypoglycemic drugs (Z79.84)\n",
      "   A17.1:\t\n",
      "   H60.1:\t\n",
      "   M84.3:\texternal cause code(s) to identify the cause of the stress fracture\n",
      "M48.40XS:\t\n"
     ]
    }
   ],
   "source": [
    "print(\"     A06:\\t\"+cm.get_use_additional_code(\"A06\"))\n",
    "print(\"     A81:\\t\"+cm.get_use_additional_code(\"A81\"))\n",
    "print(\"     E09:\\t\"+cm.get_use_additional_code(\"E09\"))\n",
    "print(\"   A17.1:\\t\"+cm.get_use_additional_code(\"A17.1\"))\n",
    "print(\"   H60.1:\\t\"+cm.get_use_additional_code(\"H60.1\"))\n",
    "print(\"   M84.3:\\t\"+cm.get_use_additional_code(\"M84.3\"))\n",
    "print(\"M48.40XS:\\t\"+cm.get_use_additional_code(\"M48.40XS\"))"
   ]
  },
  {
   "cell_type": "code",
   "execution_count": 21,
   "metadata": {},
   "outputs": [
    {
     "name": "stdout",
     "output_type": "stream",
     "text": [
      "     A06:\t\n",
      "     A81:\t\n",
      "     E09:\tpoisoning due to drug or toxin, if applicable (T36-T65 with fifth or sixth character 1-4 or 6)\n",
      "   A17.1:\t\n",
      "   H60.1:\t\n",
      "   M84.3:\t\n",
      "M48.40XS:\t\n"
     ]
    }
   ],
   "source": [
    "print(\"     A06:\\t\"+cm.get_code_first(\"A06\"))\n",
    "print(\"     A81:\\t\"+cm.get_code_first(\"A81\"))\n",
    "print(\"     E09:\\t\"+cm.get_code_first(\"E09\"))\n",
    "print(\"   A17.1:\\t\"+cm.get_code_first(\"A17.1\"))\n",
    "print(\"   H60.1:\\t\"+cm.get_code_first(\"H60.1\"))\n",
    "print(\"   M84.3:\\t\"+cm.get_code_first(\"M84.3\"))\n",
    "print(\"M48.40XS:\\t\"+cm.get_code_first(\"M48.40XS\"))"
   ]
  },
  {
   "cell_type": "markdown",
   "metadata": {},
   "source": [
    "The functions `cm.get_seven_chr_note`, `cm.get_seven_chr_def`, `cm.get_use_additional_code` and `cm.get_code_first` have an optional `search_in_ancestors` argument that, when set to True, if the given code is missing that field but one of its ancestor has it, the data of the closer ancestor that contains that field is returned.  \n",
    "Here we see an example for only two of these functions."
   ]
  },
  {
   "cell_type": "code",
   "execution_count": 22,
   "metadata": {},
   "outputs": [
    {
     "name": "stdout",
     "output_type": "stream",
     "text": [
      "get_seven_chr_note with search_in_ancestors set to False (the default) and to True\n",
      "\n",
      "M48.40XS:\t\n",
      "M48.40XS:\tThe appropriate 7th character is to be added to each code from subcategory M48.4:\n",
      "\n",
      "\n",
      "\n",
      "get_seven_chr_def with search_in_ancestors set to False (the default) and to True\n",
      "\n",
      "M48.40XS:\t{}\n",
      "M48.40XS:\t{'A': 'initial encounter for fracture', 'D': 'subsequent encounter for fracture with routine healing', 'G': 'subsequent encounter for fracture with delayed healing', 'S': 'sequela of fracture'}\n"
     ]
    }
   ],
   "source": [
    "print(\"get_seven_chr_note with search_in_ancestors set to False (the default) and to True\\n\")\n",
    "print(\"M48.40XS:\\t\"+cm.get_seven_chr_note(\"M48.40XS\"))\n",
    "print(\"M48.40XS:\\t\"+cm.get_seven_chr_note(\"M48.40XS\", search_in_ancestors=True))\n",
    "\n",
    "print(\"\\n\\n\\nget_seven_chr_def with search_in_ancestors set to False (the default) and to True\\n\")\n",
    "print(\"M48.40XS:\\t\"+str(cm.get_seven_chr_def(\"M48.40XS\")))\n",
    "print(\"M48.40XS:\\t\"+str(cm.get_seven_chr_def(\"M48.40XS\", search_in_ancestors=True)))"
   ]
  },
  {
   "cell_type": "markdown",
   "metadata": {},
   "source": [
    "We can use the `cm.get_full_data` function to get all the available data of a code. This function too has a `search_in_ancestors` optional argument, that is applied only to those fields whose `get` functions also have this argument."
   ]
  },
  {
   "cell_type": "code",
   "execution_count": 23,
   "metadata": {},
   "outputs": [
    {
     "name": "stdout",
     "output_type": "stream",
     "text": [
      "Name:\n",
      "E35\n",
      "Description:\n",
      "Disorders of endocrine glands in diseases classified elsewhere\n",
      "Parent:\n",
      "E20-E35\n",
      "excludes1:\n",
      "Echinococcus granulosus infection of thyroid gland (B67.3)\n",
      "meningococcal hemorrhagic adrenalitis (A39.1)\n",
      "syphilis of endocrine gland (A52.79)\n",
      "tuberculosis of adrenal gland, except calcification (A18.7)\n",
      "tuberculosis of endocrine gland NEC (A18.82)\n",
      "tuberculosis of thyroid gland (A18.81)\n",
      "Waterhouse-Friderichsen syndrome (A39.1)\n",
      "use additional code:\n",
      "code, if applicable, to identify:\n",
      "sequelae of tuberculosis of other organs (B90.8)\n",
      "code first:\n",
      "underlying disease, such as:\n",
      "late congenital syphilis of thymus gland [Dubois disease] (A50.5)\n",
      "Children:\n",
      "None\n",
      "\n",
      "\n",
      "Name:\n",
      "E40-E46\n",
      "Description:\n",
      "Malnutrition (E40-E46)\n",
      "Parent:\n",
      "4\n",
      "excludes1:\n",
      "intestinal malabsorption (K90.-)\n",
      "sequelae of protein-calorie malnutrition (E64.0)\n",
      "excludes2:\n",
      "nutritional anemias (D50-D53)\n",
      "starvation (T73.0)\n",
      "Children:\n",
      "E40, E41, E42, E43, E44, E45, E46\n",
      "\n",
      "\n",
      "Name:\n",
      "M48.40XS\n",
      "Description:\n",
      "Fatigue fracture of vertebra, site unspecified, sequela of fracture\n",
      "Parent:\n",
      "M48.40\n",
      "Children:\n",
      "None\n",
      "\n",
      "\n",
      "Name:\n",
      "M48.40XS\n",
      "Description:\n",
      "Fatigue fracture of vertebra, site unspecified, sequela of fracture\n",
      "Parent:\n",
      "M48.40\n",
      "seven chr note:\n",
      "The appropriate 7th character is to be added to each code from subcategory M48.4:\n",
      "seven chr def:\n",
      "A:\tinitial encounter for fracture\n",
      "D:\tsubsequent encounter for fracture with routine healing\n",
      "G:\tsubsequent encounter for fracture with delayed healing\n",
      "S:\tsequela of fracture\n",
      "Children:\n",
      "None\n"
     ]
    }
   ],
   "source": [
    "print(cm.get_full_data(\"E35\"))\n",
    "print(\"\\n\")\n",
    "print(cm.get_full_data(\"E40-E46\"))\n",
    "print(\"\\n\")\n",
    "print(cm.get_full_data(\"M48.40XS\"))\n",
    "print(\"\\n\")\n",
    "print(cm.get_full_data(\"M48.40XS\", search_in_ancestors=True))"
   ]
  },
  {
   "cell_type": "markdown",
   "metadata": {},
   "source": [
    "We can use `cm.get_parent` to find the parent of a code and `cm.get_children` to find the children of a code."
   ]
  },
  {
   "cell_type": "code",
   "execution_count": 24,
   "metadata": {},
   "outputs": [
    {
     "name": "stdout",
     "output_type": "stream",
     "text": [
      "get_parent:\n",
      "      12:\t\n",
      " G10-G14:\t6\n",
      "     C00:\tC00-C14\n",
      "   H60.1:\tH60\n",
      "M48.40XS:\tM48.40\n",
      "\n",
      "get_children:\n",
      "      12:\t['L00-L08', 'L10-L14', 'L20-L30', 'L40-L45', 'L49-L54', 'L55-L59', 'L60-L75', 'L76', 'L80-L99']\n",
      " G10-G14:\t['G10', 'G11', 'G12', 'G13', 'G14']\n",
      "     C00:\t['C00.0', 'C00.1', 'C00.2', 'C00.3', 'C00.4', 'C00.5', 'C00.6', 'C00.8', 'C00.9']\n",
      "   H60.1:\t['H60.10', 'H60.11', 'H60.12', 'H60.13']\n",
      "M48.40XS:\t[]\n"
     ]
    }
   ],
   "source": [
    "print(\"get_parent:\")\n",
    "print(\"      12:\\t\"+cm.get_parent(\"12\"))\n",
    "print(\" G10-G14:\\t\"+cm.get_parent(\"G10-G14\"))\n",
    "print(\"     C00:\\t\"+cm.get_parent(\"C00\"))\n",
    "print(\"   H60.1:\\t\"+cm.get_parent(\"H60.1\"))\n",
    "print(\"M48.40XS:\\t\"+cm.get_parent(\"M48.40XS\"))\n",
    "\n",
    "print(\"\\nget_children:\")\n",
    "print(\"      12:\\t\"+str(cm.get_children(\"12\")))\n",
    "print(\" G10-G14:\\t\"+str(cm.get_children(\"G10-G14\")))\n",
    "print(\"     C00:\\t\"+str(cm.get_children(\"C00\")))\n",
    "print(\"   H60.1:\\t\"+str(cm.get_children(\"H60.1\")))\n",
    "print(\"M48.40XS:\\t\"+str(cm.get_children(\"M48.40XS\")))"
   ]
  },
  {
   "cell_type": "markdown",
   "metadata": {},
   "source": [
    "With `cm.get_ancestors` we can get all the ancestors of a code, ordered from the parent to the root (which will be the chapter)."
   ]
  },
  {
   "cell_type": "code",
   "execution_count": 25,
   "metadata": {},
   "outputs": [
    {
     "name": "stdout",
     "output_type": "stream",
     "text": [
      "12:\n",
      "[]\n",
      "\n",
      "G10-G14:\n",
      "['6']\n",
      "\n",
      "C00:\n",
      "['C00-C14', '2']\n",
      "\n",
      "H60.1:\n",
      "['H60', 'H60-H62', '8']\n",
      "\n",
      "M48.40XS:\n",
      "['M48.40', 'M48.4', 'M48', 'M45-M49', '13']\n"
     ]
    }
   ],
   "source": [
    "print(\"12:\\n\"+str(cm.get_ancestors(\"12\"))+\"\\n\")\n",
    "print(\"G10-G14:\\n\"+str(cm.get_ancestors(\"G10-G14\"))+\"\\n\")\n",
    "print(\"C00:\\n\"+str(cm.get_ancestors(\"C00\"))+\"\\n\")\n",
    "print(\"H60.1:\\n\"+str(cm.get_ancestors(\"H60.1\"))+\"\\n\")\n",
    "print(\"M48.40XS:\\n\"+str(cm.get_ancestors(\"M48.40XS\")))"
   ]
  },
  {
   "cell_type": "markdown",
   "metadata": {},
   "source": [
    "We can get all the descendants of a code by using `cm.get_descendants`. The results are ordered as in a pre-order depth-first traversal of the tree containing the classification."
   ]
  },
  {
   "cell_type": "code",
   "execution_count": 26,
   "metadata": {},
   "outputs": [
    {
     "name": "stdout",
     "output_type": "stream",
     "text": [
      "G10-G14:\n",
      "['G10', 'G11', 'G11.0', 'G11.1', 'G11.10', 'G11.11', 'G11.19', 'G11.2', 'G11.3', 'G11.4', 'G11.8', 'G11.9', 'G12', 'G12.0', 'G12.1', 'G12.2', 'G12.20', 'G12.21', 'G12.22', 'G12.23', 'G12.24', 'G12.25', 'G12.29', 'G12.8', 'G12.9', 'G13', 'G13.0', 'G13.1', 'G13.2', 'G13.8', 'G14']\n",
      "\n",
      "C00:\n",
      "['C00.0', 'C00.1', 'C00.2', 'C00.3', 'C00.4', 'C00.5', 'C00.6', 'C00.8', 'C00.9']\n",
      "\n",
      "H60.1:\n",
      "['H60.10', 'H60.11', 'H60.12', 'H60.13']\n",
      "\n",
      "M48.40XS:\n",
      "[]\n",
      "\n"
     ]
    }
   ],
   "source": [
    "print(\"G10-G14:\\n\"+str(cm.get_descendants(\"G10-G14\"))+\"\\n\")\n",
    "print(\"C00:\\n\"+str(cm.get_descendants(\"C00\"))+\"\\n\")\n",
    "print(\"H60.1:\\n\"+str(cm.get_descendants(\"H60.1\"))+\"\\n\")\n",
    "print(\"M48.40XS:\\n\"+str(cm.get_descendants(\"M48.40XS\"))+\"\\n\")"
   ]
  },
  {
   "cell_type": "markdown",
   "metadata": {},
   "source": [
    "We can use `cm.is_descendant` to check whether a code is a descendant of another code and `cm.is_ancestor` to check whether a code is an ancestor of another code. Notice how these two functions have the same behaviour when their parameters are switched."
   ]
  },
  {
   "cell_type": "code",
   "execution_count": 27,
   "metadata": {},
   "outputs": [
    {
     "name": "stdout",
     "output_type": "stream",
     "text": [
      "H60.1 and H60-H62:\n",
      "cm.is_descendant(\"H60.1\",\"H60-H62\"):\tTrue\n",
      "cm.is_ancestor(\"H60.1\",\"H60-H62\"):\tFalse\n",
      "\n",
      "H60-H62 and H60.1:\n",
      "cm.is_descendant(\"H60-H62\",\"H60.1\"):\tFalse\n",
      "cm.is_ancestor(\"H60-H62\",\"H60.1\"):\tTrue\n",
      "\n"
     ]
    }
   ],
   "source": [
    "print(\"H60.1 and H60-H62:\")\n",
    "print(\"cm.is_descendant(\\\"H60.1\\\",\\\"H60-H62\\\"):\\t\"+str(cm.is_descendant(\"H60.1\",\"H60-H62\")))\n",
    "print(\"cm.is_ancestor(\\\"H60.1\\\",\\\"H60-H62\\\"):\\t\"+str(cm.is_ancestor(\"H60.1\",\"H60-H62\"))+\"\\n\")\n",
    "\n",
    "print(\"H60-H62 and H60.1:\")\n",
    "print(\"cm.is_descendant(\\\"H60-H62\\\",\\\"H60.1\\\"):\\t\"+str(cm.is_descendant(\"H60-H62\",\"H60.1\")))\n",
    "print(\"cm.is_ancestor(\\\"H60-H62\\\",\\\"H60.1\\\"):\\t\"+str(cm.is_ancestor(\"H60-H62\",\"H60.1\"))+\"\\n\")"
   ]
  },
  {
   "cell_type": "markdown",
   "metadata": {},
   "source": [
    "A code is never its own ancestor or descendant:"
   ]
  },
  {
   "cell_type": "code",
   "execution_count": 28,
   "metadata": {},
   "outputs": [
    {
     "name": "stdout",
     "output_type": "stream",
     "text": [
      "E15-E16 and E15-E16:\n",
      "cm.is_descendant(\"E15-E16\",\"E15-E16\"):\tFalse\n",
      "cm.is_ancestor(\"E15-E16\",\"E15-E16\"):\tFalse\n",
      "\n"
     ]
    }
   ],
   "source": [
    "print(\"E15-E16 and E15-E16:\")\n",
    "print(\"cm.is_descendant(\\\"E15-E16\\\",\\\"E15-E16\\\"):\\t\"+str(cm.is_descendant(\"E15-E16\",\"E15-E16\")))\n",
    "print(\"cm.is_ancestor(\\\"E15-E16\\\",\\\"E15-E16\\\"):\\t\"+str(cm.is_ancestor(\"E15-E16\",\"E15-E16\"))+\"\\n\")"
   ]
  },
  {
   "cell_type": "markdown",
   "metadata": {},
   "source": [
    "With `cm.get_nearest_common_ancestor` we can find the nearest common ancestor of two codes."
   ]
  },
  {
   "cell_type": "code",
   "execution_count": 29,
   "metadata": {},
   "outputs": [
    {
     "data": {
      "text/plain": [
       "'Z52'"
      ]
     },
     "execution_count": 29,
     "metadata": {},
     "output_type": "execute_result"
    }
   ],
   "source": [
    "cm.get_nearest_common_ancestor(\"Z52.5\",\"Z52.819\")"
   ]
  },
  {
   "cell_type": "markdown",
   "metadata": {},
   "source": [
    "With `is_leaf` we can check whether a code is a leaf in the ICD-10-CM classification, that is if it has no descendants."
   ]
  },
  {
   "cell_type": "code",
   "execution_count": 30,
   "metadata": {},
   "outputs": [
    {
     "name": "stdout",
     "output_type": "stream",
     "text": [
      "      12:\tFalse\n",
      " G10-G14:\tFalse\n",
      "     C00:\tFalse\n",
      "   H60.1:\tFalse\n",
      "M48.40XS:\tTrue\n"
     ]
    }
   ],
   "source": [
    "print(\"      12:\\t\"+str(cm.is_leaf(\"12\")))\n",
    "print(\" G10-G14:\\t\"+str(cm.is_leaf(\"G10-G14\")))\n",
    "print(\"     C00:\\t\"+str(cm.is_leaf(\"C00\")))\n",
    "print(\"   H60.1:\\t\"+str(cm.is_leaf(\"H60.1\")))\n",
    "print(\"M48.40XS:\\t\"+str(cm.is_leaf(\"M48.40XS\")))"
   ]
  },
  {
   "cell_type": "markdown",
   "metadata": {},
   "source": [
    "If we need, for some reason, the list of all the codes, we can get it by using `cm.get_all_codes`. If the optional boolean argument `with_dots` is set to False, the subcategories in the list will not have a dot in them, otherwise the subcategories will have a dot in them."
   ]
  },
  {
   "cell_type": "code",
   "execution_count": 31,
   "metadata": {},
   "outputs": [
    {
     "data": {
      "text/plain": [
       "['1',\n",
       " 'A00-A09',\n",
       " 'A00',\n",
       " 'A00.0',\n",
       " 'A00.1',\n",
       " 'A00.9',\n",
       " 'A01',\n",
       " 'A01.0',\n",
       " 'A01.00',\n",
       " 'A01.01',\n",
       " 'A01.02',\n",
       " 'A01.03',\n",
       " 'A01.04',\n",
       " 'A01.05',\n",
       " 'A01.09']"
      ]
     },
     "execution_count": 31,
     "metadata": {},
     "output_type": "execute_result"
    }
   ],
   "source": [
    "cm.get_all_codes()[:15]"
   ]
  },
  {
   "cell_type": "code",
   "execution_count": 32,
   "metadata": {},
   "outputs": [
    {
     "data": {
      "text/plain": [
       "['1',\n",
       " 'A00-A09',\n",
       " 'A00',\n",
       " 'A000',\n",
       " 'A001',\n",
       " 'A009',\n",
       " 'A01',\n",
       " 'A010',\n",
       " 'A0100',\n",
       " 'A0101',\n",
       " 'A0102',\n",
       " 'A0103',\n",
       " 'A0104',\n",
       " 'A0105',\n",
       " 'A0109']"
      ]
     },
     "execution_count": 32,
     "metadata": {},
     "output_type": "execute_result"
    }
   ],
   "source": [
    "cm.get_all_codes(with_dots=False)[:15]"
   ]
  },
  {
   "cell_type": "markdown",
   "metadata": {},
   "source": [
    "From here, it's really easy to only keep the codes for categories and subcategories, if we only want those."
   ]
  },
  {
   "cell_type": "code",
   "execution_count": 33,
   "metadata": {},
   "outputs": [
    {
     "data": {
      "text/plain": [
       "['A00',\n",
       " 'A00.0',\n",
       " 'A00.1',\n",
       " 'A00.9',\n",
       " 'A01',\n",
       " 'A01.0',\n",
       " 'A01.00',\n",
       " 'A01.01',\n",
       " 'A01.02',\n",
       " 'A01.03',\n",
       " 'A01.04',\n",
       " 'A01.05',\n",
       " 'A01.09',\n",
       " 'A01.1',\n",
       " 'A01.2']"
      ]
     },
     "execution_count": 33,
     "metadata": {},
     "output_type": "execute_result"
    }
   ],
   "source": [
    "[code for code in cm.get_all_codes() if not cm.is_chapter_or_block(code)][:15]"
   ]
  },
  {
   "cell_type": "markdown",
   "metadata": {},
   "source": [
    "We can use `cm.get_index` to get the index of a code in the list returned by `cm.get_all_codes`."
   ]
  },
  {
   "cell_type": "code",
   "execution_count": 34,
   "metadata": {},
   "outputs": [
    {
     "data": {
      "text/plain": [
       "27735"
      ]
     },
     "execution_count": 34,
     "metadata": {},
     "output_type": "execute_result"
    }
   ],
   "source": [
    "cm.get_index(\"P00\")"
   ]
  },
  {
   "cell_type": "code",
   "execution_count": 35,
   "metadata": {},
   "outputs": [
    {
     "data": {
      "text/plain": [
       "'P00'"
      ]
     },
     "execution_count": 35,
     "metadata": {},
     "output_type": "execute_result"
    }
   ],
   "source": [
    "cm.get_all_codes()[27735]"
   ]
  },
  {
   "cell_type": "code",
   "execution_count": 36,
   "metadata": {},
   "outputs": [
    {
     "data": {
      "text/plain": [
       "'Newborn affected by maternal conditions that may be unrelated to present pregnancy'"
      ]
     },
     "execution_count": 36,
     "metadata": {},
     "output_type": "execute_result"
    }
   ],
   "source": [
    "cm.get_description(cm.get_all_codes()[27735])"
   ]
  },
  {
   "cell_type": "markdown",
   "metadata": {},
   "source": [
    "We can use the functions `cm.remove_dot` and `cm.add_dot` to easily switch between the two format of the codes, that is the one with the dot in the subcategories and the one with no dots."
   ]
  },
  {
   "cell_type": "code",
   "execution_count": 37,
   "metadata": {},
   "outputs": [
    {
     "name": "stdout",
     "output_type": "stream",
     "text": [
      "remove_dot:\n",
      "      12:\t12\n",
      " G10-G14:\tG10-G14\n",
      "   H60.1:\tH601\n",
      "    H601:\tH601\n",
      "M48.40XS:\tM4840XS\n",
      " M4840XS:\tM4840XS\n",
      "\n",
      "add_dot:\n",
      "      12:\t12\n",
      " G10-G14:\tG10-G14\n",
      "   H60.1:\tH60.1\n",
      "    H601:\tH60.1\n",
      "M48.40XS:\tM48.40XS\n",
      " M4840XS:\tM48.40XS\n"
     ]
    }
   ],
   "source": [
    "print(\"remove_dot:\")\n",
    "print(\"      12:\\t\"+cm.remove_dot(\"12\"))\n",
    "print(\" G10-G14:\\t\"+cm.remove_dot(\"G10-G14\"))\n",
    "print(\"   H60.1:\\t\"+cm.remove_dot(\"H60.1\"))\n",
    "print(\"    H601:\\t\"+cm.remove_dot(\"H601\"))\n",
    "print(\"M48.40XS:\\t\"+cm.remove_dot(\"M48.40XS\"))\n",
    "print(\" M4840XS:\\t\"+cm.remove_dot(\"M4840XS\"))\n",
    "\n",
    "print(\"\\nadd_dot:\")\n",
    "print(\"      12:\\t\"+cm.add_dot(\"12\"))\n",
    "print(\" G10-G14:\\t\"+cm.add_dot(\"G10-G14\"))\n",
    "print(\"   H60.1:\\t\"+cm.add_dot(\"H60.1\"))\n",
    "print(\"    H601:\\t\"+cm.add_dot(\"H601\"))\n",
    "print(\"M48.40XS:\\t\"+cm.add_dot(\"M48.40XS\"))\n",
    "print(\" M4840XS:\\t\"+cm.add_dot(\"M4840XS\"))"
   ]
  }
 ],
 "metadata": {
  "kernelspec": {
   "display_name": "Python 3 (ipykernel)",
   "language": "python",
   "name": "python3"
  },
  "language_info": {
   "codemirror_mode": {
    "name": "ipython",
    "version": 3
   },
   "file_extension": ".py",
   "mimetype": "text/x-python",
   "name": "python",
   "nbconvert_exporter": "python",
   "pygments_lexer": "ipython3",
   "version": "3.11.4"
  }
 },
 "nbformat": 4,
 "nbformat_minor": 4
}
